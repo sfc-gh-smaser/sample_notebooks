{
 "cells": [
  {
   "cell_type": "code",
   "execution_count": 1,
   "id": "ad677f7c",
   "metadata": {},
   "outputs": [
    {
     "name": "stdout",
     "output_type": "stream",
     "text": [
      "Requirement already satisfied: mkl in /home/ec2-user/anaconda3/envs/python3/lib/python3.10/site-packages (2024.2.0)\n",
      "Requirement already satisfied: mkl-fft in /home/ec2-user/anaconda3/envs/python3/lib/python3.10/site-packages (1.3.8)\n",
      "Requirement already satisfied: intel-openmp>=2023 in /home/ec2-user/anaconda3/envs/python3/lib/python3.10/site-packages (from mkl) (2024.2.0)\n",
      "Requirement already satisfied: tbb==2021.* in /home/ec2-user/anaconda3/envs/python3/lib/python3.10/site-packages (from mkl) (2021.13.0)\n",
      "Requirement already satisfied: numpy>=1.16 in /home/ec2-user/anaconda3/envs/python3/lib/python3.10/site-packages (from mkl-fft) (1.26.4)\n",
      "Requirement already satisfied: intel-cmplr-lib-ur==2024.2.0 in /home/ec2-user/anaconda3/envs/python3/lib/python3.10/site-packages (from intel-openmp>=2023->mkl) (2024.2.0)\n",
      "Requirement already satisfied: snowflake-snowpark-python[pandas] in /home/ec2-user/anaconda3/envs/python3/lib/python3.10/site-packages (1.19.0)\n",
      "Requirement already satisfied: setuptools>=40.6.0 in /home/ec2-user/anaconda3/envs/python3/lib/python3.10/site-packages (from snowflake-snowpark-python[pandas]) (69.2.0)\n",
      "Requirement already satisfied: wheel in /home/ec2-user/anaconda3/envs/python3/lib/python3.10/site-packages (from snowflake-snowpark-python[pandas]) (0.43.0)\n",
      "Requirement already satisfied: snowflake-connector-python<4.0.0,>=3.10.0 in /home/ec2-user/anaconda3/envs/python3/lib/python3.10/site-packages (from snowflake-snowpark-python[pandas]) (3.11.0)\n",
      "Requirement already satisfied: typing-extensions<5.0.0,>=4.1.0 in /home/ec2-user/anaconda3/envs/python3/lib/python3.10/site-packages (from snowflake-snowpark-python[pandas]) (4.10.0)\n",
      "Requirement already satisfied: pyyaml in /home/ec2-user/anaconda3/envs/python3/lib/python3.10/site-packages (from snowflake-snowpark-python[pandas]) (6.0.1)\n",
      "Requirement already satisfied: cloudpickle!=2.1.0,!=2.2.0,<=2.2.1,>=1.6.0 in /home/ec2-user/anaconda3/envs/python3/lib/python3.10/site-packages (from snowflake-snowpark-python[pandas]) (2.2.1)\n",
      "Requirement already satisfied: asn1crypto<2.0.0,>0.24.0 in /home/ec2-user/anaconda3/envs/python3/lib/python3.10/site-packages (from snowflake-connector-python<4.0.0,>=3.10.0->snowflake-snowpark-python[pandas]) (1.5.1)\n",
      "Requirement already satisfied: cffi<2.0.0,>=1.9 in /home/ec2-user/anaconda3/envs/python3/lib/python3.10/site-packages (from snowflake-connector-python<4.0.0,>=3.10.0->snowflake-snowpark-python[pandas]) (1.16.0)\n",
      "Requirement already satisfied: cryptography<43.0.0,>=3.1.0 in /home/ec2-user/anaconda3/envs/python3/lib/python3.10/site-packages (from snowflake-connector-python<4.0.0,>=3.10.0->snowflake-snowpark-python[pandas]) (42.0.5)\n",
      "Requirement already satisfied: pyOpenSSL<25.0.0,>=16.2.0 in /home/ec2-user/anaconda3/envs/python3/lib/python3.10/site-packages (from snowflake-connector-python<4.0.0,>=3.10.0->snowflake-snowpark-python[pandas]) (24.0.0)\n",
      "Requirement already satisfied: pyjwt<3.0.0 in /home/ec2-user/anaconda3/envs/python3/lib/python3.10/site-packages (from snowflake-connector-python<4.0.0,>=3.10.0->snowflake-snowpark-python[pandas]) (2.8.0)\n",
      "Requirement already satisfied: pytz in /home/ec2-user/anaconda3/envs/python3/lib/python3.10/site-packages (from snowflake-connector-python<4.0.0,>=3.10.0->snowflake-snowpark-python[pandas]) (2024.1)\n",
      "Requirement already satisfied: requests<3.0.0 in /home/ec2-user/anaconda3/envs/python3/lib/python3.10/site-packages (from snowflake-connector-python<4.0.0,>=3.10.0->snowflake-snowpark-python[pandas]) (2.31.0)\n",
      "Requirement already satisfied: packaging in /home/ec2-user/anaconda3/envs/python3/lib/python3.10/site-packages (from snowflake-connector-python<4.0.0,>=3.10.0->snowflake-snowpark-python[pandas]) (21.3)\n",
      "Requirement already satisfied: charset-normalizer<4,>=2 in /home/ec2-user/anaconda3/envs/python3/lib/python3.10/site-packages (from snowflake-connector-python<4.0.0,>=3.10.0->snowflake-snowpark-python[pandas]) (3.3.2)\n",
      "Requirement already satisfied: idna<4,>=2.5 in /home/ec2-user/anaconda3/envs/python3/lib/python3.10/site-packages (from snowflake-connector-python<4.0.0,>=3.10.0->snowflake-snowpark-python[pandas]) (3.6)\n",
      "Requirement already satisfied: certifi>=2017.4.17 in /home/ec2-user/anaconda3/envs/python3/lib/python3.10/site-packages (from snowflake-connector-python<4.0.0,>=3.10.0->snowflake-snowpark-python[pandas]) (2024.2.2)\n",
      "Requirement already satisfied: filelock<4,>=3.5 in /home/ec2-user/anaconda3/envs/python3/lib/python3.10/site-packages (from snowflake-connector-python<4.0.0,>=3.10.0->snowflake-snowpark-python[pandas]) (3.13.3)\n",
      "Requirement already satisfied: sortedcontainers>=2.4.0 in /home/ec2-user/anaconda3/envs/python3/lib/python3.10/site-packages (from snowflake-connector-python<4.0.0,>=3.10.0->snowflake-snowpark-python[pandas]) (2.4.0)\n",
      "Requirement already satisfied: platformdirs<5.0.0,>=2.6.0 in /home/ec2-user/anaconda3/envs/python3/lib/python3.10/site-packages (from snowflake-connector-python<4.0.0,>=3.10.0->snowflake-snowpark-python[pandas]) (4.2.0)\n",
      "Requirement already satisfied: tomlkit in /home/ec2-user/anaconda3/envs/python3/lib/python3.10/site-packages (from snowflake-connector-python<4.0.0,>=3.10.0->snowflake-snowpark-python[pandas]) (0.12.4)\n",
      "Requirement already satisfied: pandas<3.0.0,>=1.0.0 in /home/ec2-user/anaconda3/envs/python3/lib/python3.10/site-packages (from snowflake-connector-python[pandas]<4.0.0,>=3.10.0; extra == \"pandas\"->snowflake-snowpark-python[pandas]) (2.2.1)\n",
      "Requirement already satisfied: pyarrow in /home/ec2-user/anaconda3/envs/python3/lib/python3.10/site-packages (from snowflake-connector-python[pandas]<4.0.0,>=3.10.0; extra == \"pandas\"->snowflake-snowpark-python[pandas]) (15.0.2)\n",
      "Requirement already satisfied: pycparser in /home/ec2-user/anaconda3/envs/python3/lib/python3.10/site-packages (from cffi<2.0.0,>=1.9->snowflake-connector-python<4.0.0,>=3.10.0->snowflake-snowpark-python[pandas]) (2.21)\n",
      "Requirement already satisfied: numpy<2,>=1.22.4 in /home/ec2-user/anaconda3/envs/python3/lib/python3.10/site-packages (from pandas<3.0.0,>=1.0.0->snowflake-connector-python[pandas]<4.0.0,>=3.10.0; extra == \"pandas\"->snowflake-snowpark-python[pandas]) (1.26.4)\n",
      "Requirement already satisfied: python-dateutil>=2.8.2 in /home/ec2-user/anaconda3/envs/python3/lib/python3.10/site-packages (from pandas<3.0.0,>=1.0.0->snowflake-connector-python[pandas]<4.0.0,>=3.10.0; extra == \"pandas\"->snowflake-snowpark-python[pandas]) (2.9.0)\n",
      "Requirement already satisfied: tzdata>=2022.7 in /home/ec2-user/anaconda3/envs/python3/lib/python3.10/site-packages (from pandas<3.0.0,>=1.0.0->snowflake-connector-python[pandas]<4.0.0,>=3.10.0; extra == \"pandas\"->snowflake-snowpark-python[pandas]) (2024.1)\n",
      "Requirement already satisfied: urllib3<3,>=1.21.1 in /home/ec2-user/anaconda3/envs/python3/lib/python3.10/site-packages (from requests<3.0.0->snowflake-connector-python<4.0.0,>=3.10.0->snowflake-snowpark-python[pandas]) (2.2.1)\n",
      "Requirement already satisfied: pyparsing!=3.0.5,>=2.0.2 in /home/ec2-user/anaconda3/envs/python3/lib/python3.10/site-packages (from packaging->snowflake-connector-python<4.0.0,>=3.10.0->snowflake-snowpark-python[pandas]) (3.1.2)\n",
      "Requirement already satisfied: six>=1.5 in /home/ec2-user/anaconda3/envs/python3/lib/python3.10/site-packages (from python-dateutil>=2.8.2->pandas<3.0.0,>=1.0.0->snowflake-connector-python[pandas]<4.0.0,>=3.10.0; extra == \"pandas\"->snowflake-snowpark-python[pandas]) (1.16.0)\n",
      "Requirement already satisfied: snowflake[ml] in /home/ec2-user/anaconda3/envs/python3/lib/python3.10/site-packages (0.10.0)\n",
      "Requirement already satisfied: snowflake-core==0.10.0 in /home/ec2-user/anaconda3/envs/python3/lib/python3.10/site-packages (from snowflake[ml]) (0.10.0)\n",
      "Requirement already satisfied: snowflake-legacy in /home/ec2-user/anaconda3/envs/python3/lib/python3.10/site-packages (from snowflake[ml]) (0.10.0)\n",
      "Requirement already satisfied: snowflake-ml-python==1.5.3 in /home/ec2-user/anaconda3/envs/python3/lib/python3.10/site-packages (from snowflake[ml]) (1.5.3)\n",
      "Requirement already satisfied: atpublic>=4 in /home/ec2-user/anaconda3/envs/python3/lib/python3.10/site-packages (from snowflake-core==0.10.0->snowflake[ml]) (4.1.0)\n",
      "Requirement already satisfied: pydantic>=2 in /home/ec2-user/anaconda3/envs/python3/lib/python3.10/site-packages (from snowflake-core==0.10.0->snowflake[ml]) (2.8.2)\n",
      "Requirement already satisfied: python-dateutil>=2.8.2 in /home/ec2-user/anaconda3/envs/python3/lib/python3.10/site-packages (from snowflake-core==0.10.0->snowflake[ml]) (2.9.0)\n",
      "Requirement already satisfied: requests in /home/ec2-user/anaconda3/envs/python3/lib/python3.10/site-packages (from snowflake-core==0.10.0->snowflake[ml]) (2.31.0)\n",
      "Requirement already satisfied: snowflake-snowpark-python<2.0.0,>=1.5.0 in /home/ec2-user/anaconda3/envs/python3/lib/python3.10/site-packages (from snowflake-core==0.10.0->snowflake[ml]) (1.19.0)\n",
      "Requirement already satisfied: urllib3 in /home/ec2-user/anaconda3/envs/python3/lib/python3.10/site-packages (from snowflake-core==0.10.0->snowflake[ml]) (2.2.1)\n",
      "Requirement already satisfied: absl-py<2,>=0.15 in /home/ec2-user/anaconda3/envs/python3/lib/python3.10/site-packages (from snowflake-ml-python==1.5.3->snowflake[ml]) (1.4.0)\n",
      "Requirement already satisfied: anyio<4,>=3.5.0 in /home/ec2-user/anaconda3/envs/python3/lib/python3.10/site-packages (from snowflake-ml-python==1.5.3->snowflake[ml]) (3.7.1)\n",
      "Requirement already satisfied: cachetools<6,>=3.1.1 in /home/ec2-user/anaconda3/envs/python3/lib/python3.10/site-packages (from snowflake-ml-python==1.5.3->snowflake[ml]) (5.3.3)\n",
      "Requirement already satisfied: cloudpickle>=2.0.0 in /home/ec2-user/anaconda3/envs/python3/lib/python3.10/site-packages (from snowflake-ml-python==1.5.3->snowflake[ml]) (2.2.1)\n",
      "Requirement already satisfied: fsspec<2024,>=2022.11 in /home/ec2-user/anaconda3/envs/python3/lib/python3.10/site-packages (from fsspec[http]<2024,>=2022.11->snowflake-ml-python==1.5.3->snowflake[ml]) (2023.12.2)\n",
      "Requirement already satisfied: importlib-resources<7,>=6.1.1 in /home/ec2-user/anaconda3/envs/python3/lib/python3.10/site-packages (from snowflake-ml-python==1.5.3->snowflake[ml]) (6.4.0)\n",
      "Requirement already satisfied: numpy<2,>=1.23 in /home/ec2-user/anaconda3/envs/python3/lib/python3.10/site-packages (from snowflake-ml-python==1.5.3->snowflake[ml]) (1.26.4)\n",
      "Requirement already satisfied: packaging<24,>=20.9 in /home/ec2-user/anaconda3/envs/python3/lib/python3.10/site-packages (from snowflake-ml-python==1.5.3->snowflake[ml]) (21.3)\n",
      "Requirement already satisfied: pandas<3,>=1.0.0 in /home/ec2-user/anaconda3/envs/python3/lib/python3.10/site-packages (from snowflake-ml-python==1.5.3->snowflake[ml]) (2.2.1)\n",
      "Requirement already satisfied: pyarrow in /home/ec2-user/anaconda3/envs/python3/lib/python3.10/site-packages (from snowflake-ml-python==1.5.3->snowflake[ml]) (15.0.2)\n",
      "Requirement already satisfied: pytimeparse<2,>=1.1.8 in /home/ec2-user/anaconda3/envs/python3/lib/python3.10/site-packages (from snowflake-ml-python==1.5.3->snowflake[ml]) (1.1.8)\n",
      "Requirement already satisfied: pyyaml<7,>=6.0 in /home/ec2-user/anaconda3/envs/python3/lib/python3.10/site-packages (from snowflake-ml-python==1.5.3->snowflake[ml]) (6.0.1)\n",
      "Requirement already satisfied: retrying<2,>=1.3.3 in /home/ec2-user/anaconda3/envs/python3/lib/python3.10/site-packages (from snowflake-ml-python==1.5.3->snowflake[ml]) (1.3.4)\n",
      "Requirement already satisfied: s3fs<2024,>=2022.11 in /home/ec2-user/anaconda3/envs/python3/lib/python3.10/site-packages (from snowflake-ml-python==1.5.3->snowflake[ml]) (2023.12.2)\n",
      "Requirement already satisfied: scikit-learn<1.4,>=1.2.1 in /home/ec2-user/anaconda3/envs/python3/lib/python3.10/site-packages (from snowflake-ml-python==1.5.3->snowflake[ml]) (1.3.2)\n",
      "Requirement already satisfied: scipy<2,>=1.9 in /home/ec2-user/anaconda3/envs/python3/lib/python3.10/site-packages (from snowflake-ml-python==1.5.3->snowflake[ml]) (1.12.0)\n",
      "Requirement already satisfied: snowflake-connector-python<4,>=3.5.0 in /home/ec2-user/anaconda3/envs/python3/lib/python3.10/site-packages (from snowflake-connector-python[pandas]<4,>=3.5.0->snowflake-ml-python==1.5.3->snowflake[ml]) (3.11.0)\n",
      "Requirement already satisfied: sqlparse<1,>=0.4 in /home/ec2-user/anaconda3/envs/python3/lib/python3.10/site-packages (from snowflake-ml-python==1.5.3->snowflake[ml]) (0.5.0)\n",
      "Requirement already satisfied: typing-extensions<5,>=4.1.0 in /home/ec2-user/anaconda3/envs/python3/lib/python3.10/site-packages (from snowflake-ml-python==1.5.3->snowflake[ml]) (4.10.0)\n",
      "Requirement already satisfied: xgboost<2,>=1.7.3 in /home/ec2-user/anaconda3/envs/python3/lib/python3.10/site-packages (from snowflake-ml-python==1.5.3->snowflake[ml]) (1.7.6)\n",
      "Requirement already satisfied: idna>=2.8 in /home/ec2-user/anaconda3/envs/python3/lib/python3.10/site-packages (from anyio<4,>=3.5.0->snowflake-ml-python==1.5.3->snowflake[ml]) (3.6)\n",
      "Requirement already satisfied: sniffio>=1.1 in /home/ec2-user/anaconda3/envs/python3/lib/python3.10/site-packages (from anyio<4,>=3.5.0->snowflake-ml-python==1.5.3->snowflake[ml]) (1.3.1)\n",
      "Requirement already satisfied: exceptiongroup in /home/ec2-user/anaconda3/envs/python3/lib/python3.10/site-packages (from anyio<4,>=3.5.0->snowflake-ml-python==1.5.3->snowflake[ml]) (1.2.0)\n",
      "Requirement already satisfied: aiohttp!=4.0.0a0,!=4.0.0a1 in /home/ec2-user/anaconda3/envs/python3/lib/python3.10/site-packages (from fsspec[http]<2024,>=2022.11->snowflake-ml-python==1.5.3->snowflake[ml]) (3.9.3)\n",
      "Requirement already satisfied: pyparsing!=3.0.5,>=2.0.2 in /home/ec2-user/anaconda3/envs/python3/lib/python3.10/site-packages (from packaging<24,>=20.9->snowflake-ml-python==1.5.3->snowflake[ml]) (3.1.2)\n",
      "Requirement already satisfied: pytz>=2020.1 in /home/ec2-user/anaconda3/envs/python3/lib/python3.10/site-packages (from pandas<3,>=1.0.0->snowflake-ml-python==1.5.3->snowflake[ml]) (2024.1)\n",
      "Requirement already satisfied: tzdata>=2022.7 in /home/ec2-user/anaconda3/envs/python3/lib/python3.10/site-packages (from pandas<3,>=1.0.0->snowflake-ml-python==1.5.3->snowflake[ml]) (2024.1)\n",
      "Requirement already satisfied: annotated-types>=0.4.0 in /home/ec2-user/anaconda3/envs/python3/lib/python3.10/site-packages (from pydantic>=2->snowflake-core==0.10.0->snowflake[ml]) (0.7.0)\n",
      "Requirement already satisfied: pydantic-core==2.20.1 in /home/ec2-user/anaconda3/envs/python3/lib/python3.10/site-packages (from pydantic>=2->snowflake-core==0.10.0->snowflake[ml]) (2.20.1)\n",
      "Requirement already satisfied: six>=1.5 in /home/ec2-user/anaconda3/envs/python3/lib/python3.10/site-packages (from python-dateutil>=2.8.2->snowflake-core==0.10.0->snowflake[ml]) (1.16.0)\n",
      "Requirement already satisfied: aiobotocore<3.0.0,>=2.5.4 in /home/ec2-user/anaconda3/envs/python3/lib/python3.10/site-packages (from s3fs<2024,>=2022.11->snowflake-ml-python==1.5.3->snowflake[ml]) (2.13.1)\n",
      "Requirement already satisfied: joblib>=1.1.1 in /home/ec2-user/anaconda3/envs/python3/lib/python3.10/site-packages (from scikit-learn<1.4,>=1.2.1->snowflake-ml-python==1.5.3->snowflake[ml]) (1.3.2)\n",
      "Requirement already satisfied: threadpoolctl>=2.0.0 in /home/ec2-user/anaconda3/envs/python3/lib/python3.10/site-packages (from scikit-learn<1.4,>=1.2.1->snowflake-ml-python==1.5.3->snowflake[ml]) (3.4.0)\n",
      "Requirement already satisfied: asn1crypto<2.0.0,>0.24.0 in /home/ec2-user/anaconda3/envs/python3/lib/python3.10/site-packages (from snowflake-connector-python<4,>=3.5.0->snowflake-connector-python[pandas]<4,>=3.5.0->snowflake-ml-python==1.5.3->snowflake[ml]) (1.5.1)\n",
      "Requirement already satisfied: cffi<2.0.0,>=1.9 in /home/ec2-user/anaconda3/envs/python3/lib/python3.10/site-packages (from snowflake-connector-python<4,>=3.5.0->snowflake-connector-python[pandas]<4,>=3.5.0->snowflake-ml-python==1.5.3->snowflake[ml]) (1.16.0)\n",
      "Requirement already satisfied: cryptography<43.0.0,>=3.1.0 in /home/ec2-user/anaconda3/envs/python3/lib/python3.10/site-packages (from snowflake-connector-python<4,>=3.5.0->snowflake-connector-python[pandas]<4,>=3.5.0->snowflake-ml-python==1.5.3->snowflake[ml]) (42.0.5)\n",
      "Requirement already satisfied: pyOpenSSL<25.0.0,>=16.2.0 in /home/ec2-user/anaconda3/envs/python3/lib/python3.10/site-packages (from snowflake-connector-python<4,>=3.5.0->snowflake-connector-python[pandas]<4,>=3.5.0->snowflake-ml-python==1.5.3->snowflake[ml]) (24.0.0)\n",
      "Requirement already satisfied: pyjwt<3.0.0 in /home/ec2-user/anaconda3/envs/python3/lib/python3.10/site-packages (from snowflake-connector-python<4,>=3.5.0->snowflake-connector-python[pandas]<4,>=3.5.0->snowflake-ml-python==1.5.3->snowflake[ml]) (2.8.0)\n",
      "Requirement already satisfied: charset-normalizer<4,>=2 in /home/ec2-user/anaconda3/envs/python3/lib/python3.10/site-packages (from snowflake-connector-python<4,>=3.5.0->snowflake-connector-python[pandas]<4,>=3.5.0->snowflake-ml-python==1.5.3->snowflake[ml]) (3.3.2)\n",
      "Requirement already satisfied: certifi>=2017.4.17 in /home/ec2-user/anaconda3/envs/python3/lib/python3.10/site-packages (from snowflake-connector-python<4,>=3.5.0->snowflake-connector-python[pandas]<4,>=3.5.0->snowflake-ml-python==1.5.3->snowflake[ml]) (2024.2.2)\n",
      "Requirement already satisfied: filelock<4,>=3.5 in /home/ec2-user/anaconda3/envs/python3/lib/python3.10/site-packages (from snowflake-connector-python<4,>=3.5.0->snowflake-connector-python[pandas]<4,>=3.5.0->snowflake-ml-python==1.5.3->snowflake[ml]) (3.13.3)\n",
      "Requirement already satisfied: sortedcontainers>=2.4.0 in /home/ec2-user/anaconda3/envs/python3/lib/python3.10/site-packages (from snowflake-connector-python<4,>=3.5.0->snowflake-connector-python[pandas]<4,>=3.5.0->snowflake-ml-python==1.5.3->snowflake[ml]) (2.4.0)\n",
      "Requirement already satisfied: platformdirs<5.0.0,>=2.6.0 in /home/ec2-user/anaconda3/envs/python3/lib/python3.10/site-packages (from snowflake-connector-python<4,>=3.5.0->snowflake-connector-python[pandas]<4,>=3.5.0->snowflake-ml-python==1.5.3->snowflake[ml]) (4.2.0)\n",
      "Requirement already satisfied: tomlkit in /home/ec2-user/anaconda3/envs/python3/lib/python3.10/site-packages (from snowflake-connector-python<4,>=3.5.0->snowflake-connector-python[pandas]<4,>=3.5.0->snowflake-ml-python==1.5.3->snowflake[ml]) (0.12.4)\n",
      "Requirement already satisfied: setuptools>=40.6.0 in /home/ec2-user/anaconda3/envs/python3/lib/python3.10/site-packages (from snowflake-snowpark-python<2.0.0,>=1.5.0->snowflake-core==0.10.0->snowflake[ml]) (69.2.0)\n",
      "Requirement already satisfied: wheel in /home/ec2-user/anaconda3/envs/python3/lib/python3.10/site-packages (from snowflake-snowpark-python<2.0.0,>=1.5.0->snowflake-core==0.10.0->snowflake[ml]) (0.43.0)\n",
      "Requirement already satisfied: botocore<1.34.132,>=1.34.70 in /home/ec2-user/anaconda3/envs/python3/lib/python3.10/site-packages (from aiobotocore<3.0.0,>=2.5.4->s3fs<2024,>=2022.11->snowflake-ml-python==1.5.3->snowflake[ml]) (1.34.101)\n",
      "Requirement already satisfied: wrapt<2.0.0,>=1.10.10 in /home/ec2-user/anaconda3/envs/python3/lib/python3.10/site-packages (from aiobotocore<3.0.0,>=2.5.4->s3fs<2024,>=2022.11->snowflake-ml-python==1.5.3->snowflake[ml]) (1.16.0)\n",
      "Requirement already satisfied: aioitertools<1.0.0,>=0.5.1 in /home/ec2-user/anaconda3/envs/python3/lib/python3.10/site-packages (from aiobotocore<3.0.0,>=2.5.4->s3fs<2024,>=2022.11->snowflake-ml-python==1.5.3->snowflake[ml]) (0.11.0)\n",
      "Requirement already satisfied: aiosignal>=1.1.2 in /home/ec2-user/anaconda3/envs/python3/lib/python3.10/site-packages (from aiohttp!=4.0.0a0,!=4.0.0a1->fsspec[http]<2024,>=2022.11->snowflake-ml-python==1.5.3->snowflake[ml]) (1.3.1)\n",
      "Requirement already satisfied: attrs>=17.3.0 in /home/ec2-user/anaconda3/envs/python3/lib/python3.10/site-packages (from aiohttp!=4.0.0a0,!=4.0.0a1->fsspec[http]<2024,>=2022.11->snowflake-ml-python==1.5.3->snowflake[ml]) (23.2.0)\n",
      "Requirement already satisfied: frozenlist>=1.1.1 in /home/ec2-user/anaconda3/envs/python3/lib/python3.10/site-packages (from aiohttp!=4.0.0a0,!=4.0.0a1->fsspec[http]<2024,>=2022.11->snowflake-ml-python==1.5.3->snowflake[ml]) (1.4.1)\n",
      "Requirement already satisfied: multidict<7.0,>=4.5 in /home/ec2-user/anaconda3/envs/python3/lib/python3.10/site-packages (from aiohttp!=4.0.0a0,!=4.0.0a1->fsspec[http]<2024,>=2022.11->snowflake-ml-python==1.5.3->snowflake[ml]) (6.0.5)\n",
      "Requirement already satisfied: yarl<2.0,>=1.0 in /home/ec2-user/anaconda3/envs/python3/lib/python3.10/site-packages (from aiohttp!=4.0.0a0,!=4.0.0a1->fsspec[http]<2024,>=2022.11->snowflake-ml-python==1.5.3->snowflake[ml]) (1.9.4)\n",
      "Requirement already satisfied: async-timeout<5.0,>=4.0 in /home/ec2-user/anaconda3/envs/python3/lib/python3.10/site-packages (from aiohttp!=4.0.0a0,!=4.0.0a1->fsspec[http]<2024,>=2022.11->snowflake-ml-python==1.5.3->snowflake[ml]) (4.0.3)\n",
      "Requirement already satisfied: pycparser in /home/ec2-user/anaconda3/envs/python3/lib/python3.10/site-packages (from cffi<2.0.0,>=1.9->snowflake-connector-python<4,>=3.5.0->snowflake-connector-python[pandas]<4,>=3.5.0->snowflake-ml-python==1.5.3->snowflake[ml]) (2.21)\n",
      "Requirement already satisfied: jmespath<2.0.0,>=0.7.1 in /home/ec2-user/anaconda3/envs/python3/lib/python3.10/site-packages (from botocore<1.34.132,>=1.34.70->aiobotocore<3.0.0,>=2.5.4->s3fs<2024,>=2022.11->snowflake-ml-python==1.5.3->snowflake[ml]) (1.0.1)\n",
      "Packages Installed\n"
     ]
    }
   ],
   "source": [
    "# Installation Step (if needed)\n",
    "!python3 -m pip install mkl mkl-fft\n",
    "!python3 -m pip install \"snowflake-snowpark-python[pandas]\"\n",
    "!python3 -m pip install \"snowflake[ml]\"\n",
    "print(\"Packages Installed\")"
   ]
  },
  {
   "cell_type": "code",
   "execution_count": 2,
   "id": "68ba403d",
   "metadata": {},
   "outputs": [
    {
     "name": "stdout",
     "output_type": "stream",
     "text": [
      "<snowflake.snowpark.session.Session: account=\"sfsenorthamerica-pfg_lab\", role=\"PRINCIPAL\", database=\"QUICKSTART_SF0001_BASE\", schema=\"PUBLIC\", warehouse=\"LAB\">\n"
     ]
    }
   ],
   "source": [
    "#authenticate and create Snowpark Session\n",
    "import json\n",
    "from getKeyPair import get_private_key\n",
    "from snowflake.snowpark import Session\n",
    "\n",
    "with open('creds.json') as f:\n",
    "    sf_params=json.load(f)\n",
    "    sf_params['private_key']=get_private_key(sf_params['private_key_file'])\n",
    "session = Session.builder.configs(sf_params).create()\n",
    "print(session)"
   ]
  },
  {
   "cell_type": "code",
   "execution_count": 48,
   "id": "7a166f70",
   "metadata": {},
   "outputs": [],
   "source": [
    "#Specify Parameters to define Export\n",
    "TABLE='SNOWFLAKE_SAMPLE_DATA.TPCH_SF1.CUSTOMER'\n",
    "DATASET_STAGE=\"@QUICKSTART_SF0001_BASE.PUBLIC.S3_EAF\"\n",
    "DATASET_STAGE_PATH=DATASET_STAGE+\"/eaf/\"\n",
    "TARGET_FILE_SIZE = 32 * 2**20 # ~32MB\n",
    "DATASET_NAME=\"mydataset_1\"\n",
    "FILE_FORMAT='parquet'\n",
    "SINGLE_FILE=False"
   ]
  },
  {
   "cell_type": "code",
   "execution_count": 22,
   "id": "8b05df52",
   "metadata": {},
   "outputs": [
    {
     "name": "stdout",
     "output_type": "stream",
     "text": [
      "{'PARTITION_NAME': 'mydataset_1', 'FILE_NAME': 'mydataset_1/data_01b59868-0205-881b-0049-5607009c4656_006_4_0.snappy.parquet', 'FILE_SIZE': 13295113, 'ROW_COUNT': 150000}\n"
     ]
    }
   ],
   "source": [
    "# Export Table to External Stage (S3 Bucket)\n",
    "df1 = session.table(TABLE)\n",
    "s3_files=df1.write.copy_into_location(\n",
    "                location=f\"'{DATASET_STAGE_PATH}'\",\n",
    "                file_format_type=f\"'{FILE_FORMAT}'\",\n",
    "                header=True,\n",
    "                partition_by=f\"'{DATASET_NAME}'\",\n",
    "                max_file_size=TARGET_FILE_SIZE,\n",
    "                single=SINGLE_FILE,\n",
    "                detailed_output=True)\n",
    "for row in s3_files:\n",
    "    print(row.as_dict())"
   ]
  },
  {
   "cell_type": "code",
   "execution_count": 32,
   "id": "2d9d6f51",
   "metadata": {},
   "outputs": [
    {
     "name": "stdout",
     "output_type": "stream",
     "text": [
      "{'name': 's3://smaser-east-snowflake/eaf/mydataset_1/data_01b5985a-0205-880c-0049-5607009c75f6_006_4_0.snappy.parquet', 'size': 13295113, 'md5': 'b11c9f5cc8fc29d04cc2ae26802dfd68', 'last_modified': 'Thu, 11 Jul 2024 10:34:17 GMT'}\n",
      "{'name': 's3://smaser-east-snowflake/eaf/mydataset_1/data_01b5985f-0205-8816-0049-5607009c0612_006_4_0.snappy.parquet', 'size': 13295113, 'md5': 'b11c9f5cc8fc29d04cc2ae26802dfd68', 'last_modified': 'Thu, 11 Jul 2024 10:40:01 GMT'}\n",
      "{'name': 's3://smaser-east-snowflake/eaf/mydataset_1/data_01b59860-0205-8813-0049-5607009c3e42_006_4_0.snappy.parquet', 'size': 13295113, 'md5': 'b11c9f5cc8fc29d04cc2ae26802dfd68', 'last_modified': 'Thu, 11 Jul 2024 10:40:09 GMT'}\n",
      "{'name': 's3://smaser-east-snowflake/eaf/mydataset_1/data_01b59861-0205-8813-0049-5607009c3e46_006_4_0.snappy.parquet', 'size': 13295113, 'md5': 'b11c9f5cc8fc29d04cc2ae26802dfd68', 'last_modified': 'Thu, 11 Jul 2024 10:41:11 GMT'}\n",
      "{'name': 's3://smaser-east-snowflake/eaf/mydataset_1/data_01b59861-0205-8815-0049-5607009c1512_006_4_0.snappy.parquet', 'size': 13295113, 'md5': 'b11c9f5cc8fc29d04cc2ae26802dfd68', 'last_modified': 'Thu, 11 Jul 2024 10:42:02 GMT'}\n",
      "{'name': 's3://smaser-east-snowflake/eaf/mydataset_1/data_01b59866-0205-8810-0049-5607009bc5fa_006_4_0.snappy.parquet', 'size': 13295113, 'md5': 'b11c9f5cc8fc29d04cc2ae26802dfd68', 'last_modified': 'Thu, 11 Jul 2024 10:46:27 GMT'}\n",
      "{'name': 's3://smaser-east-snowflake/eaf/mydataset_1/data_01b59868-0205-881b-0049-5607009c4656_006_4_0.snappy.parquet', 'size': 13295113, 'md5': 'b11c9f5cc8fc29d04cc2ae26802dfd68', 'last_modified': 'Thu, 11 Jul 2024 10:48:10 GMT'}\n",
      "{'name': 's3://smaser-east-snowflake/eaf/mydataset_1/data_01b59874-0205-8816-0049-5607009c062e_006_4_0.snappy.parquet', 'size': 13295113, 'md5': 'b11c9f5cc8fc29d04cc2ae26802dfd68', 'last_modified': 'Thu, 11 Jul 2024 11:00:22 GMT'}\n"
     ]
    }
   ],
   "source": [
    "f=session.sql(f\"list {DATASET_STAGE_PATH}\").collect()\n",
    "for row in f:\n",
    "    print(row.as_dict())"
   ]
  },
  {
   "cell_type": "markdown",
   "id": "fa9e83da",
   "metadata": {},
   "source": [
    "# Other Variations & Common Commands\n",
    "\n",
    "#To test larger dataset: <br>\n",
    "df1 = session.table('SNOWFLAKE_SAMPLE_DATA.TPCH_SF1000.CUSTOMER')\n",
    "\n",
    "#To randomly distribute data: <br>\n",
    "import snowflake.snowpark.functions as F\n",
    "df1 = session.table(TABLE).order_by(F.random())\n",
    "\n",
    "#Sample Table:<br>\n",
    "session.table(TABLE).sample(n=10).show()\n",
    "\n",
    "#Subset of Columns:<br>\n",
    "session.table(TABLE).select([\"C_CUSTKEY\", \"C_NAME\"]).limit(10).show()\n",
    "\n",
    "#Filter / Where clause:<br>\n",
    "import snowflake.snowpark.functions as F\n",
    "session.table(TABLE).filter(F.col(\"C_CUSTKEY\") <= 60010).show()\n",
    "\n",
    "#using SQL:<br>\n",
    "df1 = session.sql(f\"SELECT * FROM {TABLE}\").collect()\n",
    "\n",
    "#using SQL to perform COPY INTO entirely:<br>\n",
    "session.sql(f\"COPY INTO {DATASET_STAGE_PATH} from {TABLE} PARTITION BY ('{DATASET_NAME}') FILE_FORMAT=(TYPE=parquet) HEADER=TRUE MAX_FILE_SIZE ={TARGET_FILE_SIZE} SINGLE={SINGLE_FILE} INCLUDE_QUERY_ID=true\").show()\n",
    "\n",
    "\n",
    "https://docs.snowflake.com/en/developer-guide/snowpark/reference/python/1.18.0/snowpark/api/snowflake.snowpark.DataFrameWriter.copy_into_location\n"
   ]
  },
  {
   "cell_type": "code",
   "execution_count": null,
   "id": "6729e04f",
   "metadata": {},
   "outputs": [],
   "source": []
  }
 ],
 "metadata": {
  "kernelspec": {
   "display_name": "conda_python3",
   "language": "python",
   "name": "conda_python3"
  },
  "language_info": {
   "codemirror_mode": {
    "name": "ipython",
    "version": 3
   },
   "file_extension": ".py",
   "mimetype": "text/x-python",
   "name": "python",
   "nbconvert_exporter": "python",
   "pygments_lexer": "ipython3",
   "version": "3.10.14"
  }
 },
 "nbformat": 4,
 "nbformat_minor": 5
}
